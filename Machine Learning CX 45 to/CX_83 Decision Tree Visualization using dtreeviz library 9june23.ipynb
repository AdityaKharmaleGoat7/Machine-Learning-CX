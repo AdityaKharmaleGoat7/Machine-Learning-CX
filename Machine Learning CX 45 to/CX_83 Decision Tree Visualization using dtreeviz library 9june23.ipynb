{
 "cells": [
  {
   "cell_type": "code",
   "execution_count": 1,
   "id": "ca4724b2",
   "metadata": {},
   "outputs": [],
   "source": [
    "#link to dtreeviz library: https://www.youtube.com/redirect?event=video_description&redir_token=QUFFLUhqbHg4cjd1UzEwbXFJQUx4eVp3ZVJWYmlnZ0czd3xBQ3Jtc0trYTBkVXVjNXZ1T0U4QjVkbDE5RExtWGYzRDQ4b0tCSE5OdlhPdm1wVXNtZjhBTjRTUU9KUjVZVHJtQ0RLRWg0U09kcnNtbi1BX3NCRmNfSlhYTVgzNjNhSEZzLW1SUG51dzlsV2xqdEJZbXFiYXlvUQ&q=https%3A%2F%2Fexplained.ai%2Fdecision-tree-viz%2Findex.html&v=SlMZqfvl5uw"
   ]
  },
  {
   "cell_type": "code",
   "execution_count": 2,
   "id": "654ac91a",
   "metadata": {},
   "outputs": [],
   "source": [
    "# !pip install dtreeviz\n",
    "import graphviz.backend as be"
   ]
  },
  {
   "cell_type": "code",
   "execution_count": 3,
   "id": "265c6b14",
   "metadata": {},
   "outputs": [],
   "source": [
    "from sklearn.datasets import *\n",
    "from dtreeviz.trees import *\n",
    "from dtreeviz import *\n",
    "from IPython.display import Image, display_svg, SVG"
   ]
  },
  {
   "cell_type": "code",
   "execution_count": 4,
   "id": "35d4c80a",
   "metadata": {},
   "outputs": [
    {
     "data": {
      "text/plain": [
       "DecisionTreeClassifier()"
      ]
     },
     "execution_count": 4,
     "metadata": {},
     "output_type": "execute_result"
    }
   ],
   "source": [
    "clas = tree.DecisionTreeClassifier()  \n",
    "iris = load_iris()\n",
    "\n",
    "X_train = iris.data\n",
    "y_train = iris.target\n",
    "clas.fit(X_train, y_train)"
   ]
  },
  {
   "cell_type": "code",
   "execution_count": 5,
   "id": "b242da66",
   "metadata": {},
   "outputs": [
    {
     "data": {
      "text/plain": [
       "[Text(0.5, 0.9166666666666666, 'X[2] <= 2.45\\ngini = 0.667\\nsamples = 150\\nvalue = [50, 50, 50]'),\n",
       " Text(0.4230769230769231, 0.75, 'gini = 0.0\\nsamples = 50\\nvalue = [50, 0, 0]'),\n",
       " Text(0.5769230769230769, 0.75, 'X[3] <= 1.75\\ngini = 0.5\\nsamples = 100\\nvalue = [0, 50, 50]'),\n",
       " Text(0.3076923076923077, 0.5833333333333334, 'X[2] <= 4.95\\ngini = 0.168\\nsamples = 54\\nvalue = [0, 49, 5]'),\n",
       " Text(0.15384615384615385, 0.4166666666666667, 'X[3] <= 1.65\\ngini = 0.041\\nsamples = 48\\nvalue = [0, 47, 1]'),\n",
       " Text(0.07692307692307693, 0.25, 'gini = 0.0\\nsamples = 47\\nvalue = [0, 47, 0]'),\n",
       " Text(0.23076923076923078, 0.25, 'gini = 0.0\\nsamples = 1\\nvalue = [0, 0, 1]'),\n",
       " Text(0.46153846153846156, 0.4166666666666667, 'X[3] <= 1.55\\ngini = 0.444\\nsamples = 6\\nvalue = [0, 2, 4]'),\n",
       " Text(0.38461538461538464, 0.25, 'gini = 0.0\\nsamples = 3\\nvalue = [0, 0, 3]'),\n",
       " Text(0.5384615384615384, 0.25, 'X[0] <= 6.95\\ngini = 0.444\\nsamples = 3\\nvalue = [0, 2, 1]'),\n",
       " Text(0.46153846153846156, 0.08333333333333333, 'gini = 0.0\\nsamples = 2\\nvalue = [0, 2, 0]'),\n",
       " Text(0.6153846153846154, 0.08333333333333333, 'gini = 0.0\\nsamples = 1\\nvalue = [0, 0, 1]'),\n",
       " Text(0.8461538461538461, 0.5833333333333334, 'X[2] <= 4.85\\ngini = 0.043\\nsamples = 46\\nvalue = [0, 1, 45]'),\n",
       " Text(0.7692307692307693, 0.4166666666666667, 'X[0] <= 5.95\\ngini = 0.444\\nsamples = 3\\nvalue = [0, 1, 2]'),\n",
       " Text(0.6923076923076923, 0.25, 'gini = 0.0\\nsamples = 1\\nvalue = [0, 1, 0]'),\n",
       " Text(0.8461538461538461, 0.25, 'gini = 0.0\\nsamples = 2\\nvalue = [0, 0, 2]'),\n",
       " Text(0.9230769230769231, 0.4166666666666667, 'gini = 0.0\\nsamples = 43\\nvalue = [0, 0, 43]')]"
      ]
     },
     "execution_count": 5,
     "metadata": {},
     "output_type": "execute_result"
    },
    {
     "data": {
      "image/png": "[encoded data removed]",
      "text/plain": [
       "<Figure size 432x288 with 1 Axes>"
      ]
     },
     "metadata": {
      "needs_background": "light"
     },
     "output_type": "display_data"
    }
   ],
   "source": [
    "from sklearn.tree import plot_tree\n",
    "plot_tree(clas)"
   ]
  },
  {
   "cell_type": "markdown",
   "id": "b7ab3082",
   "metadata": {},
   "source": [
    "# 1. Classification"
   ]
  },
  {
   "cell_type": "code",
   "execution_count": 7,
   "id": "a7c95522",
   "metadata": {
    "scrolled": true
   },
   "outputs": [
    {
     "name": "stderr",
     "output_type": "stream",
     "text": [
      "C:\\Users\\vatsal shingala\\AppData\\Local\\Temp\\ipykernel_3664\\1431877341.py:1: DeprecationWarning: dtreeviz() function is deprecated starting from version 2.0. \n",
      " For the same functionality, please use this code instead: \n",
      " m = dtreeviz.model(...) \n",
      " m.view()\n"
     ]
    },
    {
     "ename": "TypeError",
     "evalue": "'int' object is not subscriptable",
     "output_type": "error",
     "traceback": [
      "\u001b[1;31m---------------------------------------------------------------------------\u001b[0m",
      "\u001b[1;31mTypeError\u001b[0m                                 Traceback (most recent call last)",
      "Input \u001b[1;32mIn [7]\u001b[0m, in \u001b[0;36m<cell line: 1>\u001b[1;34m()\u001b[0m\n\u001b[1;32m----> 1\u001b[0m viz \u001b[38;5;241m=\u001b[39m \u001b[43mdtreeviz\u001b[49m\u001b[43m(\u001b[49m\u001b[43mclas\u001b[49m\u001b[43m,\u001b[49m\u001b[43m \u001b[49m\n\u001b[0;32m      2\u001b[0m \u001b[43m               \u001b[49m\u001b[43mX_train\u001b[49m\u001b[43m,\u001b[49m\n\u001b[0;32m      3\u001b[0m \u001b[43m               \u001b[49m\u001b[43my_train\u001b[49m\u001b[43m,\u001b[49m\n\u001b[0;32m      4\u001b[0m \u001b[43m               \u001b[49m\u001b[43mfeature_names\u001b[49m\u001b[38;5;241;43m=\u001b[39;49m\u001b[43miris\u001b[49m\u001b[38;5;241;43m.\u001b[39;49m\u001b[43mfeature_names\u001b[49m\u001b[43m,\u001b[49m\u001b[43m \u001b[49m\n\u001b[0;32m      5\u001b[0m \u001b[43m               \u001b[49m\u001b[43mclass_names\u001b[49m\u001b[38;5;241;43m=\u001b[39;49m\u001b[43m[\u001b[49m\u001b[38;5;124;43m\"\u001b[39;49m\u001b[38;5;124;43msetosa\u001b[39;49m\u001b[38;5;124;43m\"\u001b[39;49m\u001b[43m,\u001b[49m\u001b[43m \u001b[49m\u001b[38;5;124;43m\"\u001b[39;49m\u001b[38;5;124;43mversicolor\u001b[39;49m\u001b[38;5;124;43m\"\u001b[39;49m\u001b[43m,\u001b[49m\u001b[43m \u001b[49m\u001b[38;5;124;43m\"\u001b[39;49m\u001b[38;5;124;43mvirginica\u001b[39;49m\u001b[38;5;124;43m\"\u001b[39;49m\u001b[43m]\u001b[49m\u001b[43m)\u001b[49m\n\u001b[0;32m      6\u001b[0m viz\n",
      "File \u001b[1;32m~\\AppData\\Roaming\\Python\\Python39\\site-packages\\dtreeviz\\compatibility.py:254\u001b[0m, in \u001b[0;36mdtreeviz\u001b[1;34m(tree_model, X_train, y_train, feature_names, target_name, class_names, tree_index, precision, orientation, instance_orientation, show_root_edge_labels, show_node_labels, show_just_path, fancy, histtype, highlight_path, X, max_X_features_LR, max_X_features_TD, depth_range_to_display, label_fontsize, ticks_fontsize, fontname, title, title_fontsize, colors, scale)\u001b[0m\n\u001b[0;32m    251\u001b[0m shadow_tree \u001b[38;5;241m=\u001b[39m ShadowDecTree\u001b[38;5;241m.\u001b[39mget_shadow_tree(tree_model, X_train, y_train, feature_names, target_name, class_names,\n\u001b[0;32m    252\u001b[0m                                             tree_index)\n\u001b[0;32m    253\u001b[0m model \u001b[38;5;241m=\u001b[39m DTreeVizAPI(shadow_tree)\n\u001b[1;32m--> 254\u001b[0m \u001b[38;5;28;01mreturn\u001b[39;00m \u001b[43mmodel\u001b[49m\u001b[38;5;241;43m.\u001b[39;49m\u001b[43mview\u001b[49m\u001b[43m(\u001b[49m\u001b[43mprecision\u001b[49m\u001b[43m,\u001b[49m\u001b[43m \u001b[49m\u001b[43morientation\u001b[49m\u001b[43m,\u001b[49m\n\u001b[0;32m    255\u001b[0m \u001b[43m                  \u001b[49m\u001b[43minstance_orientation\u001b[49m\u001b[43m,\u001b[49m\n\u001b[0;32m    256\u001b[0m \u001b[43m                  \u001b[49m\u001b[43mshow_root_edge_labels\u001b[49m\u001b[43m,\u001b[49m\u001b[43m \u001b[49m\u001b[43mshow_node_labels\u001b[49m\u001b[43m,\u001b[49m\u001b[43m \u001b[49m\u001b[43mshow_just_path\u001b[49m\u001b[43m,\u001b[49m\u001b[43m \u001b[49m\u001b[43mfancy\u001b[49m\u001b[43m,\u001b[49m\u001b[43m \u001b[49m\u001b[43mhisttype\u001b[49m\u001b[43m,\u001b[49m\u001b[43m \u001b[49m\u001b[43mhighlight_path\u001b[49m\u001b[43m,\u001b[49m\u001b[43m \u001b[49m\u001b[43mX\u001b[49m\u001b[43m,\u001b[49m\n\u001b[0;32m    257\u001b[0m \u001b[43m                  \u001b[49m\u001b[43mmax_X_features_LR\u001b[49m\u001b[43m,\u001b[49m\u001b[43m \u001b[49m\u001b[43mmax_X_features_TD\u001b[49m\u001b[43m,\u001b[49m\u001b[43m \u001b[49m\u001b[43mdepth_range_to_display\u001b[49m\u001b[43m,\u001b[49m\u001b[43m \u001b[49m\u001b[43mlabel_fontsize\u001b[49m\u001b[43m,\u001b[49m\u001b[43m \u001b[49m\u001b[43mticks_fontsize\u001b[49m\u001b[43m,\u001b[49m\n\u001b[0;32m    258\u001b[0m \u001b[43m                  \u001b[49m\u001b[43mfontname\u001b[49m\u001b[43m,\u001b[49m\u001b[43m \u001b[49m\u001b[43mtitle\u001b[49m\u001b[43m,\u001b[49m\u001b[43m \u001b[49m\u001b[43mtitle_fontsize\u001b[49m\u001b[43m,\u001b[49m\u001b[43m \u001b[49m\u001b[43mcolors\u001b[49m\u001b[38;5;241;43m=\u001b[39;49m\u001b[43mcolors\u001b[49m\u001b[43m,\u001b[49m\u001b[43m \u001b[49m\u001b[43mscale\u001b[49m\u001b[38;5;241;43m=\u001b[39;49m\u001b[43mscale\u001b[49m\u001b[43m)\u001b[49m\n",
      "File \u001b[1;32m~\\AppData\\Roaming\\Python\\Python39\\site-packages\\dtreeviz\\trees.py:519\u001b[0m, in \u001b[0;36mDTreeVizAPI.view\u001b[1;34m(self, precision, orientation, instance_orientation, show_root_edge_labels, show_node_labels, show_just_path, fancy, histtype, leaftype, highlight_path, x, max_X_features_LR, max_X_features_TD, depth_range_to_display, label_fontsize, ticks_fontsize, fontname, title, title_fontsize, colors, scale)\u001b[0m\n\u001b[0;32m    517\u001b[0m tmp \u001b[38;5;241m=\u001b[39m tempfile\u001b[38;5;241m.\u001b[39mgettempdir()\n\u001b[0;32m    518\u001b[0m \u001b[38;5;28;01mif\u001b[39;00m x \u001b[38;5;129;01mis\u001b[39;00m \u001b[38;5;129;01mnot\u001b[39;00m \u001b[38;5;28;01mNone\u001b[39;00m:\n\u001b[1;32m--> 519\u001b[0m     path \u001b[38;5;241m=\u001b[39m \u001b[38;5;28;43mself\u001b[39;49m\u001b[38;5;241;43m.\u001b[39;49m\u001b[43mshadow_tree\u001b[49m\u001b[38;5;241;43m.\u001b[39;49m\u001b[43mpredict_path\u001b[49m\u001b[43m(\u001b[49m\u001b[43mx\u001b[49m\u001b[43m)\u001b[49m\n\u001b[0;32m    520\u001b[0m     highlight_path \u001b[38;5;241m=\u001b[39m [n\u001b[38;5;241m.\u001b[39mid \u001b[38;5;28;01mfor\u001b[39;00m n \u001b[38;5;129;01min\u001b[39;00m path]\n\u001b[0;32m    522\u001b[0m color_values \u001b[38;5;241m=\u001b[39m colors[\u001b[38;5;124m'\u001b[39m\u001b[38;5;124mclasses\u001b[39m\u001b[38;5;124m'\u001b[39m][n_classes]\n",
      "File \u001b[1;32m~\\AppData\\Roaming\\Python\\Python39\\site-packages\\dtreeviz\\models\\shadow_decision_tree.py:340\u001b[0m, in \u001b[0;36mShadowDecTree.predict_path\u001b[1;34m(self, x)\u001b[0m\n\u001b[0;32m    337\u001b[0m     \u001b[38;5;28;01mreturn\u001b[39;00m walk(t\u001b[38;5;241m.\u001b[39mright, x, path)\n\u001b[0;32m    339\u001b[0m path \u001b[38;5;241m=\u001b[39m []\n\u001b[1;32m--> 340\u001b[0m \u001b[43mwalk\u001b[49m\u001b[43m(\u001b[49m\u001b[38;5;28;43mself\u001b[39;49m\u001b[38;5;241;43m.\u001b[39;49m\u001b[43mroot\u001b[49m\u001b[43m,\u001b[49m\u001b[43m \u001b[49m\u001b[43mx\u001b[49m\u001b[43m,\u001b[49m\u001b[43m \u001b[49m\u001b[43mpath\u001b[49m\u001b[43m)\u001b[49m\n\u001b[0;32m    341\u001b[0m \u001b[38;5;28;01mreturn\u001b[39;00m path\n",
      "File \u001b[1;32m~\\AppData\\Roaming\\Python\\Python39\\site-packages\\dtreeviz\\models\\shadow_decision_tree.py:335\u001b[0m, in \u001b[0;36mShadowDecTree.predict_path.<locals>.walk\u001b[1;34m(t, x, path)\u001b[0m\n\u001b[0;32m    333\u001b[0m \u001b[38;5;28;01mif\u001b[39;00m t\u001b[38;5;241m.\u001b[39misleaf():\n\u001b[0;32m    334\u001b[0m     \u001b[38;5;28;01mreturn\u001b[39;00m \u001b[38;5;28;01mNone\u001b[39;00m\n\u001b[1;32m--> 335\u001b[0m \u001b[38;5;28;01mif\u001b[39;00m \u001b[38;5;28mself\u001b[39m\u001b[38;5;241m.\u001b[39mshouldGoLeftAtSplit(t\u001b[38;5;241m.\u001b[39mid, \u001b[43mx\u001b[49m\u001b[43m[\u001b[49m\u001b[43mt\u001b[49m\u001b[38;5;241;43m.\u001b[39;49m\u001b[43mfeature\u001b[49m\u001b[43m(\u001b[49m\u001b[43m)\u001b[49m\u001b[43m]\u001b[49m):\n\u001b[0;32m    336\u001b[0m     \u001b[38;5;28;01mreturn\u001b[39;00m walk(t\u001b[38;5;241m.\u001b[39mleft, x, path)\n\u001b[0;32m    337\u001b[0m \u001b[38;5;28;01mreturn\u001b[39;00m walk(t\u001b[38;5;241m.\u001b[39mright, x, path)\n",
      "\u001b[1;31mTypeError\u001b[0m: 'int' object is not subscriptable"
     ]
    }
   ],
   "source": [
    "viz = dtreeviz(clas, \n",
    "               X_train,\n",
    "               y_train,\n",
    "               feature_names=iris.feature_names, \n",
    "               class_names=[\"setosa\", \"versicolor\", \"virginica\"])\n",
    "viz"
   ]
  },
  {
   "cell_type": "code",
   "execution_count": null,
   "id": "f7587f0e",
   "metadata": {},
   "outputs": [],
   "source": [
    "regr = tree.DecisionTreeRegressor(max_depth=1)\n",
    "boston = load_boston()\n",
    "\n",
    "X_train = boston.data\n",
    "y_train = boston.target\n",
    "regr.fit(X_train, y_train)\n",
    "\n",
    "viz = dtreeviz(regr,\n",
    "               X_train,\n",
    "               y_train,\n",
    "               target_name='price',\n",
    "               feature_names=boston.feature_names,\n",
    "               scale=2\n",
    "              )\n",
    "viz"
   ]
  },
  {
   "cell_type": "markdown",
   "id": "75e90733",
   "metadata": {},
   "source": [
    "# 3. Horizontal Decision Tree "
   ]
  },
  {
   "cell_type": "code",
   "execution_count": null,
   "id": "71952ffd",
   "metadata": {},
   "outputs": [],
   "source": [
    "viz = dtreeviz(clas, \n",
    "               X_train,\n",
    "               y_train,\n",
    "               target_name='price',\n",
    "               feature_names=iris.feature_names, \n",
    "               class_names=[\"setosa\", \"versicolor\", \"virginica\"], \n",
    "               scale = 1.5,\n",
    "               orientation='LR')\n",
    "viz"
   ]
  },
  {
   "cell_type": "markdown",
   "id": "0a1403bb",
   "metadata": {},
   "source": [
    "# 4. Show prediction path"
   ]
  },
  {
   "cell_type": "code",
   "execution_count": null,
   "id": "58e68fe2",
   "metadata": {},
   "outputs": [],
   "source": [
    "clas = tree.DecisionTreeClassifier()  \n",
    "iris = load_iris()\n",
    "\n",
    "X_train = iris.data\n",
    "y_train = iris.target\n",
    "clas.fit(X_train, y_train)\n",
    "\n",
    "X = iris.data[np.random.randint(0, len(iris.data)),:]\n",
    "\n",
    "viz = dtreeviz(clas, \n",
    "               X_train,\n",
    "               y_train,\n",
    "               feature_names=iris.feature_names, \n",
    "               class_names=[\"setosa\", \"versicolor\", \"virginica\"], \n",
    "               X=X)\n",
    "viz\n"
   ]
  },
  {
   "cell_type": "code",
   "execution_count": null,
   "id": "6fdef6b3",
   "metadata": {},
   "outputs": [],
   "source": [
    "X"
   ]
  },
  {
   "cell_type": "markdown",
   "id": "17af8523",
   "metadata": {},
   "source": [
    "# 5. Show node number"
   ]
  },
  {
   "cell_type": "code",
   "execution_count": null,
   "id": "384277cd",
   "metadata": {},
   "outputs": [],
   "source": [
    "viz = dtreeviz(clas, \n",
    "               X_train,\n",
    "               y_train,\n",
    "               target_name='price',\n",
    "               feature_names=iris.feature_names, \n",
    "               class_names=[\"setosa\", \"versicolor\", \"virginica\"], \n",
    "               histtype= 'barstacked',\n",
    "               scale = 1.5,\n",
    "               orientation='LR',\n",
    "               show_node_labels=True)\n",
    "viz"
   ]
  },
  {
   "cell_type": "markdown",
   "id": "7c328faa",
   "metadata": {},
   "source": [
    "# 6. Without Any graphs"
   ]
  },
  {
   "cell_type": "code",
   "execution_count": null,
   "id": "65f70331",
   "metadata": {},
   "outputs": [],
   "source": [
    "viz = dtreeviz(clas, \n",
    "               X_train,\n",
    "               y_train,\n",
    "               target_name='price',\n",
    "               feature_names=iris.feature_names, \n",
    "               class_names=[\"setosa\", \"versicolor\", \"virginica\"], \n",
    "               histtype= 'barstacked',\n",
    "               scale = 1.5,\n",
    "               orientation='LR',\n",
    "               fancy=False)\n",
    "viz\n",
    "     "
   ]
  },
  {
   "cell_type": "markdown",
   "id": "cbf77537",
   "metadata": {},
   "source": [
    "# 7. Show just prediction path, nothing else"
   ]
  },
  {
   "cell_type": "code",
   "execution_count": null,
   "id": "98787b6a",
   "metadata": {},
   "outputs": [],
   "source": [
    "clas = tree.DecisionTreeClassifier()  \n",
    "iris = load_iris()\n",
    "\n",
    "X_train = iris.data\n",
    "y_train = iris.target\n",
    "clas.fit(X_train, y_train)\n",
    "\n",
    "X = iris.data[np.random.randint(0, len(iris.data)),:]\n",
    "\n",
    "viz = dtreeviz(clas, \n",
    "               X_train,\n",
    "               y_train,\n",
    "               target_name='price',\n",
    "               feature_names=iris.feature_names, \n",
    "               class_names=[\"setosa\", \"versicolor\", \"virginica\"], \n",
    "               X=X,\n",
    "               show_just_path=True)\n",
    "viz"
   ]
  },
  {
   "cell_type": "markdown",
   "id": "e5abe2a9",
   "metadata": {},
   "source": [
    "# 8. Prediction Path in Plain english"
   ]
  },
  {
   "cell_type": "code",
   "execution_count": null,
   "id": "e13f75dd",
   "metadata": {},
   "outputs": [],
   "source": [
    "print(explain_prediction_path(clas, X, feature_names=iris.feature_names, explanation_type=\"plain_english\"))"
   ]
  },
  {
   "cell_type": "markdown",
   "id": "f795d09d",
   "metadata": {},
   "source": [
    "# 9. Feature Importance"
   ]
  },
  {
   "cell_type": "code",
   "execution_count": null,
   "id": "6844cf35",
   "metadata": {},
   "outputs": [],
   "source": [
    "print(explain_prediction_path(clas, X, feature_names=iris.feature_names, explanation_type=\"sklearn_default\"))"
   ]
  },
  {
   "cell_type": "markdown",
   "id": "648616a6",
   "metadata": {},
   "source": [
    "# 10. Univariate Regression"
   ]
  },
  {
   "cell_type": "code",
   "execution_count": null,
   "id": "35c413ff",
   "metadata": {},
   "outputs": [],
   "source": [
    "import pandas as pd\n",
    "import matplotlib.pyplot as plt\n",
    "from sklearn.tree import DecisionTreeRegressor\n",
    "from dtreeviz.trees import *\n",
    "\n",
    "df_cars = pd.read_csv(\"cars.csv\")\n",
    "X, y = df_cars[['WGT']], df_cars['MPG']\n",
    "\n",
    "dt = DecisionTreeRegressor(max_depth=3, criterion=\"mae\")\n",
    "dt.fit(X, y)\n",
    "\n",
    "fig = plt.figure()\n",
    "ax = fig.gca()\n",
    "rtreeviz_univar(dt, X, y, 'WGT', 'MPG', ax=ax)\n",
    "plt.show()"
   ]
  },
  {
   "cell_type": "markdown",
   "id": "ad3b6607",
   "metadata": {},
   "source": [
    "# 11. 3-D Regression"
   ]
  },
  {
   "cell_type": "code",
   "execution_count": null,
   "id": "e877f766",
   "metadata": {},
   "outputs": [],
   "source": [
    "df_cars = pd.read_csv(\"cars.csv\")\n",
    "\n",
    "df_cars"
   ]
  },
  {
   "cell_type": "code",
   "execution_count": null,
   "id": "c9b16b9f",
   "metadata": {},
   "outputs": [],
   "source": [
    "from mpl_toolkits.mplot3d import Axes3D\n",
    "from sklearn.tree import DecisionTreeRegressor\n",
    "from dtreeviz.trees import *\n",
    "\n",
    "\n",
    "X = df_cars[['WGT','ENG']]\n",
    "y = df_cars['MPG']\n",
    "\n",
    "dt = DecisionTreeRegressor(max_depth=3, criterion=\"mae\")\n",
    "dt.fit(X, y)\n",
    "\n",
    "figsize = (6,5)\n",
    "fig = plt.figure(figsize=figsize)\n",
    "ax = fig.add_subplot(111, projection='3d')\n",
    "\n",
    "t = rtreeviz_bivar_3D(dt,\n",
    "                      X, y,\n",
    "                      feature_names=['Vehicle Weight', 'Horse Power'],\n",
    "                      target_name='MPG',\n",
    "                      fontsize=14,\n",
    "                      elev=20,\n",
    "                      azim=25,\n",
    "                      dist=8.2,\n",
    "                      show={'splits','title'},\n",
    "                      ax=ax)\n",
    "plt.show()"
   ]
  },
  {
   "cell_type": "code",
   "execution_count": null,
   "id": "e182965b",
   "metadata": {},
   "outputs": [],
   "source": []
  },
  {
   "cell_type": "code",
   "execution_count": null,
   "id": "772f330d",
   "metadata": {},
   "outputs": [],
   "source": []
  }
 ],
 "metadata": {
  "kernelspec": {
   "display_name": "Python 3 (ipykernel)",
   "language": "python",
   "name": "python3"
  },
  "language_info": {
   "codemirror_mode": {
    "name": "ipython",
    "version": 3
   },
   "file_extension": ".py",
   "mimetype": "text/x-python",
   "name": "python",
   "nbconvert_exporter": "python",
   "pygments_lexer": "ipython3",
   "version": "3.9.12"
  }
 },
 "nbformat": 4,
 "nbformat_minor": 5
}
