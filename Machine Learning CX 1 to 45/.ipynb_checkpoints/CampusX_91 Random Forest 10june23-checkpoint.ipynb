{
 "cells": [
  {
   "cell_type": "code",
   "execution_count": 8,
   "id": "c42adf9d",
   "metadata": {},
   "outputs": [],
   "source": [
    "import numpy as np\n",
    "import pandas as pd\n",
    "import random\n",
    "from sklearn.datasets import make_classification"
   ]
  },
  {
   "cell_type": "code",
   "execution_count": 2,
   "id": "e0056a02",
   "metadata": {},
   "outputs": [],
   "source": [
    "X,y = make_classification(n_features=5, n_redundant=0, n_informative=5,n_clusters_per_class=1)"
   ]
  },
  {
   "cell_type": "code",
   "execution_count": 3,
   "id": "41645f09",
   "metadata": {},
   "outputs": [
    {
     "name": "stdout",
     "output_type": "stream",
     "text": [
      "(100, 6)\n"
     ]
    },
    {
     "data": {
      "text/html": [
       "<div>\n",
       "<style scoped>\n",
       "    .dataframe tbody tr th:only-of-type {\n",
       "        vertical-align: middle;\n",
       "    }\n",
       "\n",
       "    .dataframe tbody tr th {\n",
       "        vertical-align: top;\n",
       "    }\n",
       "\n",
       "    .dataframe thead th {\n",
       "        text-align: right;\n",
       "    }\n",
       "</style>\n",
       "<table border=\"1\" class=\"dataframe\">\n",
       "  <thead>\n",
       "    <tr style=\"text-align: right;\">\n",
       "      <th></th>\n",
       "      <th>col1</th>\n",
       "      <th>col2</th>\n",
       "      <th>col3</th>\n",
       "      <th>col4</th>\n",
       "      <th>col5</th>\n",
       "      <th>target</th>\n",
       "    </tr>\n",
       "  </thead>\n",
       "  <tbody>\n",
       "    <tr>\n",
       "      <th>0</th>\n",
       "      <td>2.226873</td>\n",
       "      <td>2.537538</td>\n",
       "      <td>3.652313</td>\n",
       "      <td>-2.031958</td>\n",
       "      <td>3.791593</td>\n",
       "      <td>1</td>\n",
       "    </tr>\n",
       "    <tr>\n",
       "      <th>1</th>\n",
       "      <td>0.025904</td>\n",
       "      <td>1.303188</td>\n",
       "      <td>1.134647</td>\n",
       "      <td>-0.685870</td>\n",
       "      <td>1.457362</td>\n",
       "      <td>0</td>\n",
       "    </tr>\n",
       "    <tr>\n",
       "      <th>2</th>\n",
       "      <td>1.741731</td>\n",
       "      <td>-2.573799</td>\n",
       "      <td>1.414315</td>\n",
       "      <td>-2.076868</td>\n",
       "      <td>0.218052</td>\n",
       "      <td>1</td>\n",
       "    </tr>\n",
       "    <tr>\n",
       "      <th>3</th>\n",
       "      <td>2.525936</td>\n",
       "      <td>-1.011339</td>\n",
       "      <td>1.704251</td>\n",
       "      <td>-1.889278</td>\n",
       "      <td>0.566818</td>\n",
       "      <td>1</td>\n",
       "    </tr>\n",
       "    <tr>\n",
       "      <th>4</th>\n",
       "      <td>1.230379</td>\n",
       "      <td>1.270101</td>\n",
       "      <td>2.201786</td>\n",
       "      <td>-1.449201</td>\n",
       "      <td>0.469468</td>\n",
       "      <td>0</td>\n",
       "    </tr>\n",
       "  </tbody>\n",
       "</table>\n",
       "</div>"
      ],
      "text/plain": [
       "       col1      col2      col3      col4      col5  target\n",
       "0  2.226873  2.537538  3.652313 -2.031958  3.791593       1\n",
       "1  0.025904  1.303188  1.134647 -0.685870  1.457362       0\n",
       "2  1.741731 -2.573799  1.414315 -2.076868  0.218052       1\n",
       "3  2.525936 -1.011339  1.704251 -1.889278  0.566818       1\n",
       "4  1.230379  1.270101  2.201786 -1.449201  0.469468       0"
      ]
     },
     "execution_count": 3,
     "metadata": {},
     "output_type": "execute_result"
    }
   ],
   "source": [
    "df = pd.DataFrame(X,columns=['col1','col2','col3','col4','col5'])\n",
    "df['target'] = y\n",
    "print(df.shape)\n",
    "df.head()"
   ]
  },
  {
   "cell_type": "code",
   "execution_count": 4,
   "id": "edb3f8a8",
   "metadata": {},
   "outputs": [],
   "source": [
    "# function for row sampling\n",
    "def sample_rows(df,percent):\n",
    "    return df.sample(int(percent*df.shape[0]),replace=True)"
   ]
  },
  {
   "cell_type": "code",
   "execution_count": 5,
   "id": "217adb88",
   "metadata": {},
   "outputs": [],
   "source": [
    "# function for feature sampling\n",
    "def sample_features(df,percent):\n",
    "    cols = random.sample(df.columns.tolist()[:-1],int(percent*(df.shape[1]-1)))\n",
    "    new_df = df[cols]\n",
    "    new_df['target'] = df['target']\n",
    "    return new_df"
   ]
  },
  {
   "cell_type": "code",
   "execution_count": 6,
   "id": "2830a0af",
   "metadata": {},
   "outputs": [],
   "source": [
    "# function for combined sampling\n",
    "def combined_sampling(df,row_percent,col_percent):\n",
    "    new_df = sample_rows(df,row_percent)\n",
    "    return sample_features(new_df,col_percent)    "
   ]
  },
  {
   "cell_type": "code",
   "execution_count": 9,
   "id": "c36d6f23",
   "metadata": {},
   "outputs": [
    {
     "name": "stderr",
     "output_type": "stream",
     "text": [
      "C:\\Users\\vatsal shingala\\AppData\\Local\\Temp\\ipykernel_15804\\3999859604.py:5: SettingWithCopyWarning: \n",
      "A value is trying to be set on a copy of a slice from a DataFrame.\n",
      "Try using .loc[row_indexer,col_indexer] = value instead\n",
      "\n",
      "See the caveats in the documentation: https://pandas.pydata.org/pandas-docs/stable/user_guide/indexing.html#returning-a-view-versus-a-copy\n",
      "  new_df['target'] = df['target']\n"
     ]
    }
   ],
   "source": [
    "df1 = combined_sampling(df,0.5,0.5)"
   ]
  },
  {
   "cell_type": "code",
   "execution_count": 10,
   "id": "1369fd4b",
   "metadata": {},
   "outputs": [
    {
     "name": "stderr",
     "output_type": "stream",
     "text": [
      "C:\\Users\\vatsal shingala\\AppData\\Local\\Temp\\ipykernel_15804\\3999859604.py:5: SettingWithCopyWarning: \n",
      "A value is trying to be set on a copy of a slice from a DataFrame.\n",
      "Try using .loc[row_indexer,col_indexer] = value instead\n",
      "\n",
      "See the caveats in the documentation: https://pandas.pydata.org/pandas-docs/stable/user_guide/indexing.html#returning-a-view-versus-a-copy\n",
      "  new_df['target'] = df['target']\n"
     ]
    }
   ],
   "source": [
    "df2 = combined_sampling(df,0.5,0.5)"
   ]
  },
  {
   "cell_type": "code",
   "execution_count": 11,
   "id": "42fe166a",
   "metadata": {},
   "outputs": [
    {
     "name": "stderr",
     "output_type": "stream",
     "text": [
      "C:\\Users\\vatsal shingala\\AppData\\Local\\Temp\\ipykernel_15804\\3999859604.py:5: SettingWithCopyWarning: \n",
      "A value is trying to be set on a copy of a slice from a DataFrame.\n",
      "Try using .loc[row_indexer,col_indexer] = value instead\n",
      "\n",
      "See the caveats in the documentation: https://pandas.pydata.org/pandas-docs/stable/user_guide/indexing.html#returning-a-view-versus-a-copy\n",
      "  new_df['target'] = df['target']\n"
     ]
    }
   ],
   "source": [
    "df3 = combined_sampling(df,0.5,0.5)"
   ]
  },
  {
   "cell_type": "code",
   "execution_count": 13,
   "id": "69679afc",
   "metadata": {},
   "outputs": [
    {
     "name": "stdout",
     "output_type": "stream",
     "text": [
      "Index(['col4', 'col2', 'target'], dtype='object')\n",
      "Index(['col3', 'col4', 'target'], dtype='object')\n",
      "Index(['col1', 'col4', 'target'], dtype='object')\n"
     ]
    }
   ],
   "source": [
    "print(df1.columns)\n",
    "print(df2.columns)\n",
    "print(df3.columns)"
   ]
  },
  {
   "cell_type": "code",
   "execution_count": 14,
   "id": "f10c22df",
   "metadata": {},
   "outputs": [
    {
     "data": {
      "text/html": [
       "<div>\n",
       "<style scoped>\n",
       "    .dataframe tbody tr th:only-of-type {\n",
       "        vertical-align: middle;\n",
       "    }\n",
       "\n",
       "    .dataframe tbody tr th {\n",
       "        vertical-align: top;\n",
       "    }\n",
       "\n",
       "    .dataframe thead th {\n",
       "        text-align: right;\n",
       "    }\n",
       "</style>\n",
       "<table border=\"1\" class=\"dataframe\">\n",
       "  <thead>\n",
       "    <tr style=\"text-align: right;\">\n",
       "      <th></th>\n",
       "      <th>col1</th>\n",
       "      <th>col4</th>\n",
       "      <th>target</th>\n",
       "    </tr>\n",
       "  </thead>\n",
       "  <tbody>\n",
       "    <tr>\n",
       "      <th>65</th>\n",
       "      <td>0.941536</td>\n",
       "      <td>-3.243584</td>\n",
       "      <td>1</td>\n",
       "    </tr>\n",
       "    <tr>\n",
       "      <th>37</th>\n",
       "      <td>0.849858</td>\n",
       "      <td>-0.836604</td>\n",
       "      <td>1</td>\n",
       "    </tr>\n",
       "    <tr>\n",
       "      <th>93</th>\n",
       "      <td>2.246409</td>\n",
       "      <td>-1.715526</td>\n",
       "      <td>0</td>\n",
       "    </tr>\n",
       "    <tr>\n",
       "      <th>67</th>\n",
       "      <td>0.757206</td>\n",
       "      <td>-0.389613</td>\n",
       "      <td>0</td>\n",
       "    </tr>\n",
       "    <tr>\n",
       "      <th>94</th>\n",
       "      <td>-1.328310</td>\n",
       "      <td>1.624079</td>\n",
       "      <td>1</td>\n",
       "    </tr>\n",
       "    <tr>\n",
       "      <th>33</th>\n",
       "      <td>1.895174</td>\n",
       "      <td>-2.455046</td>\n",
       "      <td>1</td>\n",
       "    </tr>\n",
       "    <tr>\n",
       "      <th>23</th>\n",
       "      <td>1.405597</td>\n",
       "      <td>-0.635939</td>\n",
       "      <td>0</td>\n",
       "    </tr>\n",
       "    <tr>\n",
       "      <th>28</th>\n",
       "      <td>-0.065568</td>\n",
       "      <td>-2.141653</td>\n",
       "      <td>0</td>\n",
       "    </tr>\n",
       "    <tr>\n",
       "      <th>30</th>\n",
       "      <td>-0.778964</td>\n",
       "      <td>0.909134</td>\n",
       "      <td>1</td>\n",
       "    </tr>\n",
       "    <tr>\n",
       "      <th>70</th>\n",
       "      <td>1.715841</td>\n",
       "      <td>-2.233768</td>\n",
       "      <td>0</td>\n",
       "    </tr>\n",
       "    <tr>\n",
       "      <th>74</th>\n",
       "      <td>-1.004237</td>\n",
       "      <td>-0.385174</td>\n",
       "      <td>1</td>\n",
       "    </tr>\n",
       "    <tr>\n",
       "      <th>15</th>\n",
       "      <td>0.465563</td>\n",
       "      <td>-0.188508</td>\n",
       "      <td>0</td>\n",
       "    </tr>\n",
       "    <tr>\n",
       "      <th>5</th>\n",
       "      <td>1.179366</td>\n",
       "      <td>-1.015754</td>\n",
       "      <td>0</td>\n",
       "    </tr>\n",
       "    <tr>\n",
       "      <th>91</th>\n",
       "      <td>2.264088</td>\n",
       "      <td>-1.839832</td>\n",
       "      <td>1</td>\n",
       "    </tr>\n",
       "    <tr>\n",
       "      <th>89</th>\n",
       "      <td>2.127264</td>\n",
       "      <td>-0.400640</td>\n",
       "      <td>1</td>\n",
       "    </tr>\n",
       "    <tr>\n",
       "      <th>85</th>\n",
       "      <td>4.086414</td>\n",
       "      <td>-2.953293</td>\n",
       "      <td>1</td>\n",
       "    </tr>\n",
       "    <tr>\n",
       "      <th>21</th>\n",
       "      <td>1.568888</td>\n",
       "      <td>-0.015437</td>\n",
       "      <td>0</td>\n",
       "    </tr>\n",
       "    <tr>\n",
       "      <th>89</th>\n",
       "      <td>2.127264</td>\n",
       "      <td>-0.400640</td>\n",
       "      <td>1</td>\n",
       "    </tr>\n",
       "    <tr>\n",
       "      <th>94</th>\n",
       "      <td>-1.328310</td>\n",
       "      <td>1.624079</td>\n",
       "      <td>1</td>\n",
       "    </tr>\n",
       "    <tr>\n",
       "      <th>59</th>\n",
       "      <td>-0.448977</td>\n",
       "      <td>0.436969</td>\n",
       "      <td>1</td>\n",
       "    </tr>\n",
       "    <tr>\n",
       "      <th>54</th>\n",
       "      <td>3.380652</td>\n",
       "      <td>-1.399345</td>\n",
       "      <td>1</td>\n",
       "    </tr>\n",
       "    <tr>\n",
       "      <th>95</th>\n",
       "      <td>0.917679</td>\n",
       "      <td>-2.576027</td>\n",
       "      <td>1</td>\n",
       "    </tr>\n",
       "    <tr>\n",
       "      <th>41</th>\n",
       "      <td>-1.045806</td>\n",
       "      <td>-0.379493</td>\n",
       "      <td>1</td>\n",
       "    </tr>\n",
       "    <tr>\n",
       "      <th>77</th>\n",
       "      <td>1.280089</td>\n",
       "      <td>-0.327391</td>\n",
       "      <td>1</td>\n",
       "    </tr>\n",
       "    <tr>\n",
       "      <th>4</th>\n",
       "      <td>1.230379</td>\n",
       "      <td>-1.449201</td>\n",
       "      <td>0</td>\n",
       "    </tr>\n",
       "    <tr>\n",
       "      <th>37</th>\n",
       "      <td>0.849858</td>\n",
       "      <td>-0.836604</td>\n",
       "      <td>1</td>\n",
       "    </tr>\n",
       "    <tr>\n",
       "      <th>35</th>\n",
       "      <td>-0.158531</td>\n",
       "      <td>-1.040654</td>\n",
       "      <td>0</td>\n",
       "    </tr>\n",
       "    <tr>\n",
       "      <th>9</th>\n",
       "      <td>0.778717</td>\n",
       "      <td>1.019726</td>\n",
       "      <td>0</td>\n",
       "    </tr>\n",
       "    <tr>\n",
       "      <th>5</th>\n",
       "      <td>1.179366</td>\n",
       "      <td>-1.015754</td>\n",
       "      <td>0</td>\n",
       "    </tr>\n",
       "    <tr>\n",
       "      <th>53</th>\n",
       "      <td>1.152240</td>\n",
       "      <td>-1.074469</td>\n",
       "      <td>0</td>\n",
       "    </tr>\n",
       "    <tr>\n",
       "      <th>75</th>\n",
       "      <td>-0.636957</td>\n",
       "      <td>-1.111327</td>\n",
       "      <td>0</td>\n",
       "    </tr>\n",
       "    <tr>\n",
       "      <th>87</th>\n",
       "      <td>2.073407</td>\n",
       "      <td>1.180683</td>\n",
       "      <td>0</td>\n",
       "    </tr>\n",
       "    <tr>\n",
       "      <th>52</th>\n",
       "      <td>-0.492496</td>\n",
       "      <td>-0.969635</td>\n",
       "      <td>0</td>\n",
       "    </tr>\n",
       "    <tr>\n",
       "      <th>40</th>\n",
       "      <td>1.159651</td>\n",
       "      <td>-0.459005</td>\n",
       "      <td>0</td>\n",
       "    </tr>\n",
       "    <tr>\n",
       "      <th>62</th>\n",
       "      <td>1.534749</td>\n",
       "      <td>0.888781</td>\n",
       "      <td>0</td>\n",
       "    </tr>\n",
       "    <tr>\n",
       "      <th>82</th>\n",
       "      <td>2.418547</td>\n",
       "      <td>-3.017384</td>\n",
       "      <td>1</td>\n",
       "    </tr>\n",
       "    <tr>\n",
       "      <th>80</th>\n",
       "      <td>1.777341</td>\n",
       "      <td>-2.275391</td>\n",
       "      <td>0</td>\n",
       "    </tr>\n",
       "    <tr>\n",
       "      <th>42</th>\n",
       "      <td>2.317125</td>\n",
       "      <td>-2.552247</td>\n",
       "      <td>0</td>\n",
       "    </tr>\n",
       "    <tr>\n",
       "      <th>25</th>\n",
       "      <td>-0.489134</td>\n",
       "      <td>-0.792625</td>\n",
       "      <td>0</td>\n",
       "    </tr>\n",
       "    <tr>\n",
       "      <th>19</th>\n",
       "      <td>0.379642</td>\n",
       "      <td>0.524127</td>\n",
       "      <td>0</td>\n",
       "    </tr>\n",
       "    <tr>\n",
       "      <th>98</th>\n",
       "      <td>2.081243</td>\n",
       "      <td>-1.991384</td>\n",
       "      <td>1</td>\n",
       "    </tr>\n",
       "    <tr>\n",
       "      <th>60</th>\n",
       "      <td>0.966501</td>\n",
       "      <td>-0.035266</td>\n",
       "      <td>1</td>\n",
       "    </tr>\n",
       "    <tr>\n",
       "      <th>2</th>\n",
       "      <td>1.741731</td>\n",
       "      <td>-2.076868</td>\n",
       "      <td>1</td>\n",
       "    </tr>\n",
       "    <tr>\n",
       "      <th>98</th>\n",
       "      <td>2.081243</td>\n",
       "      <td>-1.991384</td>\n",
       "      <td>1</td>\n",
       "    </tr>\n",
       "    <tr>\n",
       "      <th>52</th>\n",
       "      <td>-0.492496</td>\n",
       "      <td>-0.969635</td>\n",
       "      <td>0</td>\n",
       "    </tr>\n",
       "    <tr>\n",
       "      <th>98</th>\n",
       "      <td>2.081243</td>\n",
       "      <td>-1.991384</td>\n",
       "      <td>1</td>\n",
       "    </tr>\n",
       "    <tr>\n",
       "      <th>13</th>\n",
       "      <td>-1.414637</td>\n",
       "      <td>-0.400409</td>\n",
       "      <td>1</td>\n",
       "    </tr>\n",
       "    <tr>\n",
       "      <th>44</th>\n",
       "      <td>1.218472</td>\n",
       "      <td>-0.591635</td>\n",
       "      <td>1</td>\n",
       "    </tr>\n",
       "    <tr>\n",
       "      <th>23</th>\n",
       "      <td>1.405597</td>\n",
       "      <td>-0.635939</td>\n",
       "      <td>0</td>\n",
       "    </tr>\n",
       "    <tr>\n",
       "      <th>87</th>\n",
       "      <td>2.073407</td>\n",
       "      <td>1.180683</td>\n",
       "      <td>0</td>\n",
       "    </tr>\n",
       "  </tbody>\n",
       "</table>\n",
       "</div>"
      ],
      "text/plain": [
       "        col1      col4  target\n",
       "65  0.941536 -3.243584       1\n",
       "37  0.849858 -0.836604       1\n",
       "93  2.246409 -1.715526       0\n",
       "67  0.757206 -0.389613       0\n",
       "94 -1.328310  1.624079       1\n",
       "33  1.895174 -2.455046       1\n",
       "23  1.405597 -0.635939       0\n",
       "28 -0.065568 -2.141653       0\n",
       "30 -0.778964  0.909134       1\n",
       "70  1.715841 -2.233768       0\n",
       "74 -1.004237 -0.385174       1\n",
       "15  0.465563 -0.188508       0\n",
       "5   1.179366 -1.015754       0\n",
       "91  2.264088 -1.839832       1\n",
       "89  2.127264 -0.400640       1\n",
       "85  4.086414 -2.953293       1\n",
       "21  1.568888 -0.015437       0\n",
       "89  2.127264 -0.400640       1\n",
       "94 -1.328310  1.624079       1\n",
       "59 -0.448977  0.436969       1\n",
       "54  3.380652 -1.399345       1\n",
       "95  0.917679 -2.576027       1\n",
       "41 -1.045806 -0.379493       1\n",
       "77  1.280089 -0.327391       1\n",
       "4   1.230379 -1.449201       0\n",
       "37  0.849858 -0.836604       1\n",
       "35 -0.158531 -1.040654       0\n",
       "9   0.778717  1.019726       0\n",
       "5   1.179366 -1.015754       0\n",
       "53  1.152240 -1.074469       0\n",
       "75 -0.636957 -1.111327       0\n",
       "87  2.073407  1.180683       0\n",
       "52 -0.492496 -0.969635       0\n",
       "40  1.159651 -0.459005       0\n",
       "62  1.534749  0.888781       0\n",
       "82  2.418547 -3.017384       1\n",
       "80  1.777341 -2.275391       0\n",
       "42  2.317125 -2.552247       0\n",
       "25 -0.489134 -0.792625       0\n",
       "19  0.379642  0.524127       0\n",
       "98  2.081243 -1.991384       1\n",
       "60  0.966501 -0.035266       1\n",
       "2   1.741731 -2.076868       1\n",
       "98  2.081243 -1.991384       1\n",
       "52 -0.492496 -0.969635       0\n",
       "98  2.081243 -1.991384       1\n",
       "13 -1.414637 -0.400409       1\n",
       "44  1.218472 -0.591635       1\n",
       "23  1.405597 -0.635939       0\n",
       "87  2.073407  1.180683       0"
      ]
     },
     "execution_count": 14,
     "metadata": {},
     "output_type": "execute_result"
    }
   ],
   "source": [
    "df3"
   ]
  },
  {
   "cell_type": "code",
   "execution_count": 15,
   "id": "b85dc365",
   "metadata": {},
   "outputs": [],
   "source": [
    "from sklearn.tree import DecisionTreeClassifier\n",
    "clf1 = DecisionTreeClassifier()\n",
    "clf2 = DecisionTreeClassifier()\n",
    "clf3 = DecisionTreeClassifier()"
   ]
  },
  {
   "cell_type": "code",
   "execution_count": 16,
   "id": "d165779f",
   "metadata": {},
   "outputs": [
    {
     "data": {
      "text/plain": [
       "DecisionTreeClassifier()"
      ]
     },
     "execution_count": 16,
     "metadata": {},
     "output_type": "execute_result"
    }
   ],
   "source": [
    "clf1.fit(df1.iloc[:,0:2],df1.iloc[:,-1])\n",
    "clf2.fit(df2.iloc[:,0:2],df2.iloc[:,-1])\n",
    "clf3.fit(df3.iloc[:,0:2],df3.iloc[:,-1])"
   ]
  },
  {
   "cell_type": "code",
   "execution_count": 17,
   "id": "7e507ef0",
   "metadata": {},
   "outputs": [
    {
     "data": {
      "text/plain": [
       "[Text(0.4230769230769231, 0.9444444444444444, 'X[1] <= -0.495\\ngini = 0.499\\nsamples = 50\\nvalue = [26, 24]'),\n",
       " Text(0.15384615384615385, 0.8333333333333334, 'X[1] <= -1.846\\ngini = 0.208\\nsamples = 17\\nvalue = [2, 15]'),\n",
       " Text(0.07692307692307693, 0.7222222222222222, 'gini = 0.0\\nsamples = 8\\nvalue = [0, 8]'),\n",
       " Text(0.23076923076923078, 0.7222222222222222, 'X[1] <= -1.765\\ngini = 0.346\\nsamples = 9\\nvalue = [2, 7]'),\n",
       " Text(0.15384615384615385, 0.6111111111111112, 'gini = 0.0\\nsamples = 1\\nvalue = [1, 0]'),\n",
       " Text(0.3076923076923077, 0.6111111111111112, 'X[0] <= -2.058\\ngini = 0.219\\nsamples = 8\\nvalue = [1, 7]'),\n",
       " Text(0.23076923076923078, 0.5, 'X[1] <= -1.149\\ngini = 0.5\\nsamples = 2\\nvalue = [1, 1]'),\n",
       " Text(0.15384615384615385, 0.3888888888888889, 'gini = 0.0\\nsamples = 1\\nvalue = [0, 1]'),\n",
       " Text(0.3076923076923077, 0.3888888888888889, 'gini = 0.0\\nsamples = 1\\nvalue = [1, 0]'),\n",
       " Text(0.38461538461538464, 0.5, 'gini = 0.0\\nsamples = 6\\nvalue = [0, 6]'),\n",
       " Text(0.6923076923076923, 0.8333333333333334, 'X[0] <= -1.877\\ngini = 0.397\\nsamples = 33\\nvalue = [24, 9]'),\n",
       " Text(0.5384615384615384, 0.7222222222222222, 'X[0] <= -2.392\\ngini = 0.375\\nsamples = 4\\nvalue = [1, 3]'),\n",
       " Text(0.46153846153846156, 0.6111111111111112, 'gini = 0.0\\nsamples = 1\\nvalue = [1, 0]'),\n",
       " Text(0.6153846153846154, 0.6111111111111112, 'gini = 0.0\\nsamples = 3\\nvalue = [0, 3]'),\n",
       " Text(0.8461538461538461, 0.7222222222222222, 'X[1] <= 1.69\\ngini = 0.328\\nsamples = 29\\nvalue = [23, 6]'),\n",
       " Text(0.7692307692307693, 0.6111111111111112, 'X[1] <= 1.42\\ngini = 0.42\\nsamples = 20\\nvalue = [14, 6]'),\n",
       " Text(0.6923076923076923, 0.5, 'X[1] <= 0.801\\ngini = 0.346\\nsamples = 18\\nvalue = [14, 4]'),\n",
       " Text(0.6153846153846154, 0.3888888888888889, 'X[1] <= -0.152\\ngini = 0.463\\nsamples = 11\\nvalue = [7, 4]'),\n",
       " Text(0.5384615384615384, 0.2777777777777778, 'gini = 0.0\\nsamples = 3\\nvalue = [3, 0]'),\n",
       " Text(0.6923076923076923, 0.2777777777777778, 'X[1] <= 0.422\\ngini = 0.5\\nsamples = 8\\nvalue = [4, 4]'),\n",
       " Text(0.5384615384615384, 0.16666666666666666, 'X[0] <= 0.661\\ngini = 0.375\\nsamples = 4\\nvalue = [1, 3]'),\n",
       " Text(0.46153846153846156, 0.05555555555555555, 'gini = 0.0\\nsamples = 3\\nvalue = [0, 3]'),\n",
       " Text(0.6153846153846154, 0.05555555555555555, 'gini = 0.0\\nsamples = 1\\nvalue = [1, 0]'),\n",
       " Text(0.8461538461538461, 0.16666666666666666, 'X[1] <= 0.779\\ngini = 0.375\\nsamples = 4\\nvalue = [3, 1]'),\n",
       " Text(0.7692307692307693, 0.05555555555555555, 'gini = 0.0\\nsamples = 3\\nvalue = [3, 0]'),\n",
       " Text(0.9230769230769231, 0.05555555555555555, 'gini = 0.0\\nsamples = 1\\nvalue = [0, 1]'),\n",
       " Text(0.7692307692307693, 0.3888888888888889, 'gini = 0.0\\nsamples = 7\\nvalue = [7, 0]'),\n",
       " Text(0.8461538461538461, 0.5, 'gini = 0.0\\nsamples = 2\\nvalue = [0, 2]'),\n",
       " Text(0.9230769230769231, 0.6111111111111112, 'gini = 0.0\\nsamples = 9\\nvalue = [9, 0]')]"
      ]
     },
     "execution_count": 17,
     "metadata": {},
     "output_type": "execute_result"
    },
    {
     "data": {
      "image/png": "[encoded data removed]",
      "text/plain": [
       "<Figure size 432x288 with 1 Axes>"
      ]
     },
     "metadata": {
      "needs_background": "light"
     },
     "output_type": "display_data"
    }
   ],
   "source": [
    "from sklearn.tree import plot_tree\n",
    "     \n",
    "plot_tree(clf1)"
   ]
  },
  {
   "cell_type": "code",
   "execution_count": 18,
   "id": "c1f49531",
   "metadata": {
    "scrolled": true
   },
   "outputs": [
    {
     "data": {
      "text/plain": [
       "[Text(0.4, 0.95, 'X[1] <= -2.365\\ngini = 0.493\\nsamples = 50\\nvalue = [28, 22]'),\n",
       " Text(0.3, 0.85, 'X[0] <= 1.75\\ngini = 0.245\\nsamples = 7\\nvalue = [1, 6]'),\n",
       " Text(0.25, 0.75, 'gini = 0.0\\nsamples = 6\\nvalue = [0, 6]'),\n",
       " Text(0.35, 0.75, 'gini = 0.0\\nsamples = 1\\nvalue = [1, 0]'),\n",
       " Text(0.5, 0.85, 'X[0] <= -0.995\\ngini = 0.467\\nsamples = 43\\nvalue = [27, 16]'),\n",
       " Text(0.45, 0.75, 'gini = 0.0\\nsamples = 5\\nvalue = [5, 0]'),\n",
       " Text(0.55, 0.75, 'X[0] <= 0.437\\ngini = 0.488\\nsamples = 38\\nvalue = [22, 16]'),\n",
       " Text(0.3, 0.65, 'X[1] <= -0.97\\ngini = 0.488\\nsamples = 19\\nvalue = [8, 11]'),\n",
       " Text(0.25, 0.55, 'gini = 0.0\\nsamples = 3\\nvalue = [0, 3]'),\n",
       " Text(0.35, 0.55, 'X[0] <= 0.138\\ngini = 0.5\\nsamples = 16\\nvalue = [8, 8]'),\n",
       " Text(0.25, 0.45, 'X[0] <= 0.003\\ngini = 0.463\\nsamples = 11\\nvalue = [7, 4]'),\n",
       " Text(0.2, 0.35, 'X[1] <= -0.256\\ngini = 0.5\\nsamples = 8\\nvalue = [4, 4]'),\n",
       " Text(0.15, 0.25, 'X[1] <= -0.581\\ngini = 0.444\\nsamples = 6\\nvalue = [4, 2]'),\n",
       " Text(0.1, 0.15, 'X[1] <= -0.775\\ngini = 0.444\\nsamples = 3\\nvalue = [1, 2]'),\n",
       " Text(0.05, 0.05, 'gini = 0.0\\nsamples = 1\\nvalue = [1, 0]'),\n",
       " Text(0.15, 0.05, 'gini = 0.0\\nsamples = 2\\nvalue = [0, 2]'),\n",
       " Text(0.2, 0.15, 'gini = 0.0\\nsamples = 3\\nvalue = [3, 0]'),\n",
       " Text(0.25, 0.25, 'gini = 0.0\\nsamples = 2\\nvalue = [0, 2]'),\n",
       " Text(0.3, 0.35, 'gini = 0.0\\nsamples = 3\\nvalue = [3, 0]'),\n",
       " Text(0.45, 0.45, 'X[0] <= 0.349\\ngini = 0.32\\nsamples = 5\\nvalue = [1, 4]'),\n",
       " Text(0.4, 0.35, 'gini = 0.0\\nsamples = 4\\nvalue = [0, 4]'),\n",
       " Text(0.5, 0.35, 'gini = 0.0\\nsamples = 1\\nvalue = [1, 0]'),\n",
       " Text(0.8, 0.65, 'X[0] <= 3.389\\ngini = 0.388\\nsamples = 19\\nvalue = [14, 5]'),\n",
       " Text(0.7, 0.55, 'X[1] <= -1.876\\ngini = 0.231\\nsamples = 15\\nvalue = [13, 2]'),\n",
       " Text(0.65, 0.45, 'X[0] <= 1.999\\ngini = 0.48\\nsamples = 5\\nvalue = [3, 2]'),\n",
       " Text(0.6, 0.35, 'gini = 0.0\\nsamples = 2\\nvalue = [0, 2]'),\n",
       " Text(0.7, 0.35, 'gini = 0.0\\nsamples = 3\\nvalue = [3, 0]'),\n",
       " Text(0.75, 0.45, 'gini = 0.0\\nsamples = 10\\nvalue = [10, 0]'),\n",
       " Text(0.9, 0.55, 'X[0] <= 3.734\\ngini = 0.375\\nsamples = 4\\nvalue = [1, 3]'),\n",
       " Text(0.85, 0.45, 'gini = 0.0\\nsamples = 3\\nvalue = [0, 3]'),\n",
       " Text(0.95, 0.45, 'gini = 0.0\\nsamples = 1\\nvalue = [1, 0]')]"
      ]
     },
     "execution_count": 18,
     "metadata": {},
     "output_type": "execute_result"
    },
    {
     "data": {
      "image/png": "[encoded data removed]",
      "text/plain": [
       "<Figure size 432x288 with 1 Axes>"
      ]
     },
     "metadata": {
      "needs_background": "light"
     },
     "output_type": "display_data"
    }
   ],
   "source": [
    "plot_tree(clf2)"
   ]
  },
  {
   "cell_type": "code",
   "execution_count": 20,
   "id": "00c64add",
   "metadata": {},
   "outputs": [
    {
     "data": {
      "text/plain": [
       "[Text(0.484375, 0.9444444444444444, 'X[0] <= -0.708\\ngini = 0.5\\nsamples = 50\\nvalue = [25, 25]'),\n",
       " Text(0.421875, 0.8333333333333334, 'gini = 0.0\\nsamples = 6\\nvalue = [0, 6]'),\n",
       " Text(0.546875, 0.8333333333333334, 'X[0] <= 2.077\\ngini = 0.491\\nsamples = 44\\nvalue = [25, 19]'),\n",
       " Text(0.28125, 0.7222222222222222, 'X[1] <= -2.365\\ngini = 0.422\\nsamples = 33\\nvalue = [23, 10]'),\n",
       " Text(0.21875, 0.6111111111111112, 'gini = 0.0\\nsamples = 3\\nvalue = [0, 3]'),\n",
       " Text(0.34375, 0.6111111111111112, 'X[1] <= -0.903\\ngini = 0.358\\nsamples = 30\\nvalue = [23, 7]'),\n",
       " Text(0.125, 0.5, 'X[0] <= 1.729\\ngini = 0.153\\nsamples = 12\\nvalue = [11, 1]'),\n",
       " Text(0.0625, 0.3888888888888889, 'gini = 0.0\\nsamples = 10\\nvalue = [10, 0]'),\n",
       " Text(0.1875, 0.3888888888888889, 'X[1] <= -2.176\\ngini = 0.5\\nsamples = 2\\nvalue = [1, 1]'),\n",
       " Text(0.125, 0.2777777777777778, 'gini = 0.0\\nsamples = 1\\nvalue = [1, 0]'),\n",
       " Text(0.25, 0.2777777777777778, 'gini = 0.0\\nsamples = 1\\nvalue = [0, 1]'),\n",
       " Text(0.5625, 0.5, 'X[0] <= 1.343\\ngini = 0.444\\nsamples = 18\\nvalue = [12, 6]'),\n",
       " Text(0.5, 0.3888888888888889, 'X[0] <= 0.814\\ngini = 0.5\\nsamples = 12\\nvalue = [6, 6]'),\n",
       " Text(0.375, 0.2777777777777778, 'X[0] <= -0.035\\ngini = 0.278\\nsamples = 6\\nvalue = [5, 1]'),\n",
       " Text(0.3125, 0.16666666666666666, 'X[0] <= -0.469\\ngini = 0.5\\nsamples = 2\\nvalue = [1, 1]'),\n",
       " Text(0.25, 0.05555555555555555, 'gini = 0.0\\nsamples = 1\\nvalue = [1, 0]'),\n",
       " Text(0.375, 0.05555555555555555, 'gini = 0.0\\nsamples = 1\\nvalue = [0, 1]'),\n",
       " Text(0.4375, 0.16666666666666666, 'gini = 0.0\\nsamples = 4\\nvalue = [4, 0]'),\n",
       " Text(0.625, 0.2777777777777778, 'X[0] <= 1.063\\ngini = 0.278\\nsamples = 6\\nvalue = [1, 5]'),\n",
       " Text(0.5625, 0.16666666666666666, 'gini = 0.0\\nsamples = 3\\nvalue = [0, 3]'),\n",
       " Text(0.6875, 0.16666666666666666, 'X[0] <= 1.189\\ngini = 0.444\\nsamples = 3\\nvalue = [1, 2]'),\n",
       " Text(0.625, 0.05555555555555555, 'gini = 0.0\\nsamples = 1\\nvalue = [1, 0]'),\n",
       " Text(0.75, 0.05555555555555555, 'gini = 0.0\\nsamples = 2\\nvalue = [0, 2]'),\n",
       " Text(0.625, 0.3888888888888889, 'gini = 0.0\\nsamples = 6\\nvalue = [6, 0]'),\n",
       " Text(0.8125, 0.7222222222222222, 'X[0] <= 2.187\\ngini = 0.298\\nsamples = 11\\nvalue = [2, 9]'),\n",
       " Text(0.75, 0.6111111111111112, 'gini = 0.0\\nsamples = 5\\nvalue = [0, 5]'),\n",
       " Text(0.875, 0.6111111111111112, 'X[0] <= 2.368\\ngini = 0.444\\nsamples = 6\\nvalue = [2, 4]'),\n",
       " Text(0.8125, 0.5, 'X[1] <= -2.196\\ngini = 0.444\\nsamples = 3\\nvalue = [2, 1]'),\n",
       " Text(0.75, 0.3888888888888889, 'gini = 0.0\\nsamples = 1\\nvalue = [1, 0]'),\n",
       " Text(0.875, 0.3888888888888889, 'X[0] <= 2.255\\ngini = 0.5\\nsamples = 2\\nvalue = [1, 1]'),\n",
       " Text(0.8125, 0.2777777777777778, 'gini = 0.0\\nsamples = 1\\nvalue = [1, 0]'),\n",
       " Text(0.9375, 0.2777777777777778, 'gini = 0.0\\nsamples = 1\\nvalue = [0, 1]'),\n",
       " Text(0.9375, 0.5, 'gini = 0.0\\nsamples = 3\\nvalue = [0, 3]')]"
      ]
     },
     "execution_count": 20,
     "metadata": {},
     "output_type": "execute_result"
    },
    {
     "data": {
      "image/png": "[encoded data removed]",
      "text/plain": [
       "<Figure size 432x288 with 1 Axes>"
      ]
     },
     "metadata": {
      "needs_background": "light"
     },
     "output_type": "display_data"
    }
   ],
   "source": [
    "plot_tree(clf3)"
   ]
  },
  {
   "cell_type": "code",
   "execution_count": 21,
   "id": "c2a17da5",
   "metadata": {},
   "outputs": [
    {
     "name": "stderr",
     "output_type": "stream",
     "text": [
      "C:\\ProgramData\\Anaconda3\\lib\\site-packages\\sklearn\\base.py:450: UserWarning: X does not have valid feature names, but DecisionTreeClassifier was fitted with feature names\n",
      "  warnings.warn(\n"
     ]
    },
    {
     "data": {
      "text/plain": [
       "array([1])"
      ]
     },
     "execution_count": 21,
     "metadata": {},
     "output_type": "execute_result"
    }
   ],
   "source": [
    "clf1.predict(np.array([-1.042498,\t-0.064323]).reshape(1,2))"
   ]
  },
  {
   "cell_type": "code",
   "execution_count": 22,
   "id": "0351cc6c",
   "metadata": {},
   "outputs": [
    {
     "name": "stderr",
     "output_type": "stream",
     "text": [
      "C:\\ProgramData\\Anaconda3\\lib\\site-packages\\sklearn\\base.py:450: UserWarning: X does not have valid feature names, but DecisionTreeClassifier was fitted with feature names\n",
      "  warnings.warn(\n"
     ]
    },
    {
     "data": {
      "text/plain": [
       "array([0])"
      ]
     },
     "execution_count": 22,
     "metadata": {},
     "output_type": "execute_result"
    }
   ],
   "source": [
    "clf2.predict(np.array([-1.042498,\t-0.064323]).reshape(1,2))"
   ]
  },
  {
   "cell_type": "code",
   "execution_count": 23,
   "id": "c749f2c1",
   "metadata": {},
   "outputs": [
    {
     "name": "stderr",
     "output_type": "stream",
     "text": [
      "C:\\ProgramData\\Anaconda3\\lib\\site-packages\\sklearn\\base.py:450: UserWarning: X does not have valid feature names, but DecisionTreeClassifier was fitted with feature names\n",
      "  warnings.warn(\n"
     ]
    },
    {
     "data": {
      "text/plain": [
       "array([1])"
      ]
     },
     "execution_count": 23,
     "metadata": {},
     "output_type": "execute_result"
    }
   ],
   "source": [
    "clf3.predict(np.array([-1.042498,\t-0.064323]).reshape(1,2))"
   ]
  },
  {
   "cell_type": "code",
   "execution_count": 24,
   "id": "c5ab251e",
   "metadata": {},
   "outputs": [
    {
     "data": {
      "text/html": [
       "<div>\n",
       "<style scoped>\n",
       "    .dataframe tbody tr th:only-of-type {\n",
       "        vertical-align: middle;\n",
       "    }\n",
       "\n",
       "    .dataframe tbody tr th {\n",
       "        vertical-align: top;\n",
       "    }\n",
       "\n",
       "    .dataframe thead th {\n",
       "        text-align: right;\n",
       "    }\n",
       "</style>\n",
       "<table border=\"1\" class=\"dataframe\">\n",
       "  <thead>\n",
       "    <tr style=\"text-align: right;\">\n",
       "      <th></th>\n",
       "      <th>col1</th>\n",
       "      <th>col2</th>\n",
       "      <th>col3</th>\n",
       "      <th>col4</th>\n",
       "      <th>col5</th>\n",
       "      <th>target</th>\n",
       "    </tr>\n",
       "  </thead>\n",
       "  <tbody>\n",
       "    <tr>\n",
       "      <th>11</th>\n",
       "      <td>1.066134</td>\n",
       "      <td>0.878334</td>\n",
       "      <td>-0.798021</td>\n",
       "      <td>-0.686691</td>\n",
       "      <td>0.573754</td>\n",
       "      <td>0</td>\n",
       "    </tr>\n",
       "    <tr>\n",
       "      <th>80</th>\n",
       "      <td>1.777341</td>\n",
       "      <td>0.658900</td>\n",
       "      <td>3.256874</td>\n",
       "      <td>-2.275391</td>\n",
       "      <td>0.991584</td>\n",
       "      <td>0</td>\n",
       "    </tr>\n",
       "    <tr>\n",
       "      <th>22</th>\n",
       "      <td>1.651944</td>\n",
       "      <td>0.837587</td>\n",
       "      <td>-0.408989</td>\n",
       "      <td>-0.753905</td>\n",
       "      <td>0.712252</td>\n",
       "      <td>1</td>\n",
       "    </tr>\n",
       "    <tr>\n",
       "      <th>42</th>\n",
       "      <td>2.317125</td>\n",
       "      <td>0.237111</td>\n",
       "      <td>2.570280</td>\n",
       "      <td>-2.552247</td>\n",
       "      <td>-0.249152</td>\n",
       "      <td>0</td>\n",
       "    </tr>\n",
       "    <tr>\n",
       "      <th>44</th>\n",
       "      <td>1.218472</td>\n",
       "      <td>-2.306403</td>\n",
       "      <td>0.944538</td>\n",
       "      <td>-0.591635</td>\n",
       "      <td>-0.088338</td>\n",
       "      <td>1</td>\n",
       "    </tr>\n",
       "    <tr>\n",
       "      <th>73</th>\n",
       "      <td>-0.751354</td>\n",
       "      <td>2.413562</td>\n",
       "      <td>0.571812</td>\n",
       "      <td>0.131830</td>\n",
       "      <td>2.485627</td>\n",
       "      <td>0</td>\n",
       "    </tr>\n",
       "    <tr>\n",
       "      <th>24</th>\n",
       "      <td>1.843417</td>\n",
       "      <td>0.687565</td>\n",
       "      <td>-0.715965</td>\n",
       "      <td>-0.157040</td>\n",
       "      <td>0.774428</td>\n",
       "      <td>0</td>\n",
       "    </tr>\n",
       "    <tr>\n",
       "      <th>4</th>\n",
       "      <td>1.230379</td>\n",
       "      <td>1.270101</td>\n",
       "      <td>2.201786</td>\n",
       "      <td>-1.449201</td>\n",
       "      <td>0.469468</td>\n",
       "      <td>0</td>\n",
       "    </tr>\n",
       "    <tr>\n",
       "      <th>55</th>\n",
       "      <td>0.677313</td>\n",
       "      <td>1.205963</td>\n",
       "      <td>-1.371738</td>\n",
       "      <td>1.061119</td>\n",
       "      <td>1.507081</td>\n",
       "      <td>0</td>\n",
       "    </tr>\n",
       "    <tr>\n",
       "      <th>83</th>\n",
       "      <td>-0.341185</td>\n",
       "      <td>-1.868314</td>\n",
       "      <td>1.738765</td>\n",
       "      <td>-1.648215</td>\n",
       "      <td>2.109185</td>\n",
       "      <td>1</td>\n",
       "    </tr>\n",
       "    <tr>\n",
       "      <th>74</th>\n",
       "      <td>-1.004237</td>\n",
       "      <td>-3.481723</td>\n",
       "      <td>3.521809</td>\n",
       "      <td>-0.385174</td>\n",
       "      <td>2.238267</td>\n",
       "      <td>1</td>\n",
       "    </tr>\n",
       "    <tr>\n",
       "      <th>99</th>\n",
       "      <td>0.804842</td>\n",
       "      <td>1.918807</td>\n",
       "      <td>-0.671124</td>\n",
       "      <td>0.098659</td>\n",
       "      <td>1.785849</td>\n",
       "      <td>0</td>\n",
       "    </tr>\n",
       "    <tr>\n",
       "      <th>11</th>\n",
       "      <td>1.066134</td>\n",
       "      <td>0.878334</td>\n",
       "      <td>-0.798021</td>\n",
       "      <td>-0.686691</td>\n",
       "      <td>0.573754</td>\n",
       "      <td>0</td>\n",
       "    </tr>\n",
       "    <tr>\n",
       "      <th>77</th>\n",
       "      <td>1.280089</td>\n",
       "      <td>1.537535</td>\n",
       "      <td>0.166369</td>\n",
       "      <td>-0.327391</td>\n",
       "      <td>1.487736</td>\n",
       "      <td>1</td>\n",
       "    </tr>\n",
       "  </tbody>\n",
       "</table>\n",
       "</div>"
      ],
      "text/plain": [
       "        col1      col2      col3      col4      col5  target\n",
       "11  1.066134  0.878334 -0.798021 -0.686691  0.573754       0\n",
       "80  1.777341  0.658900  3.256874 -2.275391  0.991584       0\n",
       "22  1.651944  0.837587 -0.408989 -0.753905  0.712252       1\n",
       "42  2.317125  0.237111  2.570280 -2.552247 -0.249152       0\n",
       "44  1.218472 -2.306403  0.944538 -0.591635 -0.088338       1\n",
       "73 -0.751354  2.413562  0.571812  0.131830  2.485627       0\n",
       "24  1.843417  0.687565 -0.715965 -0.157040  0.774428       0\n",
       "4   1.230379  1.270101  2.201786 -1.449201  0.469468       0\n",
       "55  0.677313  1.205963 -1.371738  1.061119  1.507081       0\n",
       "83 -0.341185 -1.868314  1.738765 -1.648215  2.109185       1\n",
       "74 -1.004237 -3.481723  3.521809 -0.385174  2.238267       1\n",
       "99  0.804842  1.918807 -0.671124  0.098659  1.785849       0\n",
       "11  1.066134  0.878334 -0.798021 -0.686691  0.573754       0\n",
       "77  1.280089  1.537535  0.166369 -0.327391  1.487736       1"
      ]
     },
     "execution_count": 24,
     "metadata": {},
     "output_type": "execute_result"
    }
   ],
   "source": [
    "#\n",
    "df.sample(14,replace=True)"
   ]
  },
  {
   "cell_type": "code",
   "execution_count": null,
   "id": "88c23165",
   "metadata": {},
   "outputs": [],
   "source": []
  }
 ],
 "metadata": {
  "kernelspec": {
   "display_name": "Python 3 (ipykernel)",
   "language": "python",
   "name": "python3"
  },
  "language_info": {
   "codemirror_mode": {
    "name": "ipython",
    "version": 3
   },
   "file_extension": ".py",
   "mimetype": "text/x-python",
   "name": "python",
   "nbconvert_exporter": "python",
   "pygments_lexer": "ipython3",
   "version": "3.9.12"
  }
 },
 "nbformat": 4,
 "nbformat_minor": 5
}
