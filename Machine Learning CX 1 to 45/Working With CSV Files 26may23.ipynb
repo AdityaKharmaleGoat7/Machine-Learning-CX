{
 "cells": [
  {
   "cell_type": "markdown",
   "id": "b421faa1",
   "metadata": {},
   "source": [
    "## 1.Opening a csv file from Local System\n",
    "#### csv= comma separated values\n",
    "#### tsv= tab separated values\n"
   ]
  },
  {
   "cell_type": "code",
   "execution_count": 9,
   "id": "32bf48d0",
   "metadata": {},
   "outputs": [
    {
     "data": {
      "text/html": [
       "<div>\n",
       "<style scoped>\n",
       "    .dataframe tbody tr th:only-of-type {\n",
       "        vertical-align: middle;\n",
       "    }\n",
       "\n",
       "    .dataframe tbody tr th {\n",
       "        vertical-align: top;\n",
       "    }\n",
       "\n",
       "    .dataframe thead th {\n",
       "        text-align: right;\n",
       "    }\n",
       "</style>\n",
       "<table border=\"1\" class=\"dataframe\">\n",
       "  <thead>\n",
       "    <tr style=\"text-align: right;\">\n",
       "      <th></th>\n",
       "      <th>Unnamed: 0</th>\n",
       "      <th>name</th>\n",
       "      <th>marks</th>\n",
       "      <th>city</th>\n",
       "    </tr>\n",
       "  </thead>\n",
       "  <tbody>\n",
       "    <tr>\n",
       "      <th>0</th>\n",
       "      <td>0</td>\n",
       "      <td>vatsal</td>\n",
       "      <td>92</td>\n",
       "      <td>surat</td>\n",
       "    </tr>\n",
       "    <tr>\n",
       "      <th>1</th>\n",
       "      <td>1</td>\n",
       "      <td>rohan</td>\n",
       "      <td>50</td>\n",
       "      <td>rampur</td>\n",
       "    </tr>\n",
       "    <tr>\n",
       "      <th>2</th>\n",
       "      <td>2</td>\n",
       "      <td>sid</td>\n",
       "      <td>43</td>\n",
       "      <td>vadodara</td>\n",
       "    </tr>\n",
       "    <tr>\n",
       "      <th>3</th>\n",
       "      <td>3</td>\n",
       "      <td>subham</td>\n",
       "      <td>24</td>\n",
       "      <td>ahamdabad</td>\n",
       "    </tr>\n",
       "  </tbody>\n",
       "</table>\n",
       "</div>"
      ],
      "text/plain": [
       "   Unnamed: 0    name  marks       city\n",
       "0           0  vatsal     92      surat\n",
       "1           1   rohan     50     rampur\n",
       "2           2     sid     43   vadodara\n",
       "3           3  subham     24  ahamdabad"
      ]
     },
     "execution_count": 9,
     "metadata": {},
     "output_type": "execute_result"
    }
   ],
   "source": [
    "import pandas as pd\n",
    "df= pd.read_csv('friends.csv')\n",
    "df"
   ]
  },
  {
   "cell_type": "markdown",
   "id": "d9f7ea44",
   "metadata": {},
   "source": [
    "# 2. Opening a csv file from an URL"
   ]
  },
  {
   "cell_type": "code",
   "execution_count": 12,
   "id": "bdadfd3d",
   "metadata": {},
   "outputs": [
    {
     "data": {
      "text/html": [
       "<div>\n",
       "<style scoped>\n",
       "    .dataframe tbody tr th:only-of-type {\n",
       "        vertical-align: middle;\n",
       "    }\n",
       "\n",
       "    .dataframe tbody tr th {\n",
       "        vertical-align: top;\n",
       "    }\n",
       "\n",
       "    .dataframe thead th {\n",
       "        text-align: right;\n",
       "    }\n",
       "</style>\n",
       "<table border=\"1\" class=\"dataframe\">\n",
       "  <thead>\n",
       "    <tr style=\"text-align: right;\">\n",
       "      <th></th>\n",
       "      <th>Country</th>\n",
       "      <th>Region</th>\n",
       "    </tr>\n",
       "  </thead>\n",
       "  <tbody>\n",
       "    <tr>\n",
       "      <th>0</th>\n",
       "      <td>Algeria</td>\n",
       "      <td>AFRICA</td>\n",
       "    </tr>\n",
       "    <tr>\n",
       "      <th>1</th>\n",
       "      <td>Angola</td>\n",
       "      <td>AFRICA</td>\n",
       "    </tr>\n",
       "    <tr>\n",
       "      <th>2</th>\n",
       "      <td>Benin</td>\n",
       "      <td>AFRICA</td>\n",
       "    </tr>\n",
       "    <tr>\n",
       "      <th>3</th>\n",
       "      <td>Botswana</td>\n",
       "      <td>AFRICA</td>\n",
       "    </tr>\n",
       "    <tr>\n",
       "      <th>4</th>\n",
       "      <td>Burkina</td>\n",
       "      <td>AFRICA</td>\n",
       "    </tr>\n",
       "    <tr>\n",
       "      <th>...</th>\n",
       "      <td>...</td>\n",
       "      <td>...</td>\n",
       "    </tr>\n",
       "    <tr>\n",
       "      <th>189</th>\n",
       "      <td>Paraguay</td>\n",
       "      <td>SOUTH AMERICA</td>\n",
       "    </tr>\n",
       "    <tr>\n",
       "      <th>190</th>\n",
       "      <td>Peru</td>\n",
       "      <td>SOUTH AMERICA</td>\n",
       "    </tr>\n",
       "    <tr>\n",
       "      <th>191</th>\n",
       "      <td>Suriname</td>\n",
       "      <td>SOUTH AMERICA</td>\n",
       "    </tr>\n",
       "    <tr>\n",
       "      <th>192</th>\n",
       "      <td>Uruguay</td>\n",
       "      <td>SOUTH AMERICA</td>\n",
       "    </tr>\n",
       "    <tr>\n",
       "      <th>193</th>\n",
       "      <td>Venezuela</td>\n",
       "      <td>SOUTH AMERICA</td>\n",
       "    </tr>\n",
       "  </tbody>\n",
       "</table>\n",
       "<p>194 rows × 2 columns</p>\n",
       "</div>"
      ],
      "text/plain": [
       "       Country         Region\n",
       "0      Algeria         AFRICA\n",
       "1       Angola         AFRICA\n",
       "2        Benin         AFRICA\n",
       "3     Botswana         AFRICA\n",
       "4      Burkina         AFRICA\n",
       "..         ...            ...\n",
       "189   Paraguay  SOUTH AMERICA\n",
       "190       Peru  SOUTH AMERICA\n",
       "191   Suriname  SOUTH AMERICA\n",
       "192    Uruguay  SOUTH AMERICA\n",
       "193  Venezuela  SOUTH AMERICA\n",
       "\n",
       "[194 rows x 2 columns]"
      ]
     },
     "execution_count": 12,
     "metadata": {},
     "output_type": "execute_result"
    }
   ],
   "source": [
    "import requests\n",
    "from io import StringIO\n",
    "\n",
    "url = \"https://raw.githubusercontent.com/cs109/2014_data/master/countries.csv\" #url of data set\n",
    "headers = {\"User-Agent\": \"Mozilla/5.0 (Macintosh; Intel Mac OS X 10.14; rv:66.0) Gecko/20100101 Firefox/66.0\"}\n",
    "req = requests.get(url, headers=headers)\n",
    "data = StringIO(req.text)\n",
    "\n",
    "pd.read_csv(data)"
   ]
  },
  {
   "cell_type": "markdown",
   "id": "274a8c67",
   "metadata": {},
   "source": [
    "# 3. Sep parameter (separated by )"
   ]
  },
  {
   "cell_type": "code",
   "execution_count": 1,
   "id": "25ae74c0",
   "metadata": {},
   "outputs": [],
   "source": [
    "# pd.read_csv('movie_titles_metadata.tsv',sep='\\t')\n",
    "pd.read_csv('movie_titles_metadata.tsv',sep='\\t',names=['sno','name','release_year','rating','votes','genres'])\n",
    "#if you dont have column name then you can write by name list"
   ]
  },
  {
   "cell_type": "markdown",
   "id": "bc127421",
   "metadata": {},
   "source": [
    "# 5. Index_col parameter"
   ]
  },
  {
   "cell_type": "code",
   "execution_count": 2,
   "id": "4c29952a",
   "metadata": {},
   "outputs": [],
   "source": [
    "pd.read_csv('aug_train.csv',index_col='enrollee_id') \n",
    "#default pandas index column replaced by enrollee_id"
   ]
  },
  {
   "cell_type": "markdown",
   "id": "b2a33a83",
   "metadata": {},
   "source": [
    "# 6. Header parameter"
   ]
  },
  {
   "cell_type": "code",
   "execution_count": 3,
   "id": "41e232d1",
   "metadata": {},
   "outputs": [],
   "source": [
    "pd.read_csv('test.csv',header=1) #when header is shown as values"
   ]
  },
  {
   "cell_type": "markdown",
   "id": "826837c6",
   "metadata": {},
   "source": [
    "# 7. use_cols parameter"
   ]
  },
  {
   "cell_type": "code",
   "execution_count": null,
   "id": "162e2451",
   "metadata": {},
   "outputs": [],
   "source": [
    "#when you want to import only spacific columns\n",
    "pd.read_csv('aug_train.csv',usecols=['enrollee_id','gender','education_level'])"
   ]
  },
  {
   "cell_type": "markdown",
   "id": "8f51a74b",
   "metadata": {},
   "source": [
    "# 8. Squeeze parameters"
   ]
  },
  {
   "cell_type": "code",
   "execution_count": null,
   "id": "79b9614b",
   "metadata": {},
   "outputs": [],
   "source": [
    "# import only one column as series from dataset\n",
    "pd.read_csv('aug_train.csv',usecols=['gender'],squeeze=True)"
   ]
  },
  {
   "cell_type": "markdown",
   "id": "e07717b4",
   "metadata": {},
   "source": [
    "# 9. Skip rows/nrows Parameter"
   ]
  },
  {
   "cell_type": "code",
   "execution_count": null,
   "id": "0df128d7",
   "metadata": {},
   "outputs": [],
   "source": [
    "#to skip rows or columns\n",
    "pd.read_csv('aug_train.csv',nrows=100)"
   ]
  },
  {
   "cell_type": "markdown",
   "id": "9fb5f294",
   "metadata": {},
   "source": [
    "# 10. Encoding parameter"
   ]
  },
  {
   "cell_type": "code",
   "execution_count": null,
   "id": "59220736",
   "metadata": {},
   "outputs": [],
   "source": [
    "# when encoding of text is differant then you have to give encoding of that text\n",
    "pd.read_csv('zomato.csv',encoding='latin-1')"
   ]
  },
  {
   "cell_type": "markdown",
   "id": "ebc10643",
   "metadata": {},
   "source": [
    "# 11. Skip bad lines"
   ]
  },
  {
   "cell_type": "code",
   "execution_count": null,
   "id": "68145d44",
   "metadata": {},
   "outputs": [],
   "source": [
    "# sometimes row contain more values then colun so error_bad_lines removes theose rows \n",
    "pd.read_csv('BX-Books.csv', sep=';', encoding=\"latin-1\",error_bad_lines=False)"
   ]
  },
  {
   "cell_type": "markdown",
   "id": "d427e2e1",
   "metadata": {},
   "source": [
    "# 12. dtypes parameter"
   ]
  },
  {
   "cell_type": "code",
   "execution_count": 7,
   "id": "0504279a",
   "metadata": {},
   "outputs": [],
   "source": [
    "#when you want to convert to integer\n",
    "pd.read_csv('aug_train.csv',dtype={'target':int}).info()"
   ]
  },
  {
   "cell_type": "markdown",
   "id": "c6296608",
   "metadata": {},
   "source": [
    "# 13. Handling Dates"
   ]
  },
  {
   "cell_type": "code",
   "execution_count": null,
   "id": "9eba88ed",
   "metadata": {},
   "outputs": [],
   "source": [
    "#date is by default in string so if you want to use date time functionality of date then tou have to convert into datatime64[ns]\n",
    "pd.read_csv('IPL Matches 2008-2020.csv',parse_dates=['date']).info()\n",
    "#can also merge 3 differant column of day month and year to dd-mm-yy (show documentation)"
   ]
  },
  {
   "cell_type": "markdown",
   "id": "2c97c17d",
   "metadata": {},
   "source": [
    "# 14. Convertors"
   ]
  },
  {
   "cell_type": "code",
   "execution_count": null,
   "id": "22ca63bc",
   "metadata": {},
   "outputs": [],
   "source": [
    "def rename(name):\n",
    "    if name == \"Royal Challengers Bangalore\":\n",
    "        return \"RCB\"\n",
    "    else:\n",
    "        return name\n",
    "    \n",
    "rename(\"Royal Challengers Bangalore\")"
   ]
  },
  {
   "cell_type": "code",
   "execution_count": null,
   "id": "0c157950",
   "metadata": {},
   "outputs": [],
   "source": [
    "pd.read_csv('IPL Matches 2008-2020.csv',converters={'team1':rename})\n",
    "#transformation applied of team1 column"
   ]
  },
  {
   "cell_type": "markdown",
   "id": "b37188fa",
   "metadata": {},
   "source": [
    "# 15. na_values parameter"
   ]
  },
  {
   "cell_type": "code",
   "execution_count": null,
   "id": "928a9ebf",
   "metadata": {},
   "outputs": [],
   "source": [
    "# convert value to NA values\n",
    "pd.read_csv('aug_train.csv',na_values=['Male'])"
   ]
  },
  {
   "cell_type": "markdown",
   "id": "acecb117",
   "metadata": {},
   "source": [
    "# 16. Loading a huge dataset in chunks"
   ]
  },
  {
   "cell_type": "code",
   "execution_count": 9,
   "id": "27b8f7a6",
   "metadata": {},
   "outputs": [],
   "source": [
    "# sometime dataset is very large and cannt load whole dataset in machine so we \n",
    "#can convert in to batches and by using loop we can work on that\n",
    "dfs = pd.read_csv('aug_train.csv',chunksize=5000)"
   ]
  },
  {
   "cell_type": "code",
   "execution_count": 10,
   "id": "80f204d3",
   "metadata": {},
   "outputs": [
    {
     "name": "stdout",
     "output_type": "stream",
     "text": [
      "(5000, 14)\n",
      "(5000, 14)\n",
      "(5000, 14)\n",
      "(4158, 14)\n"
     ]
    }
   ],
   "source": [
    "for chunks in dfs:\n",
    "    print(chunks.shape)"
   ]
  },
  {
   "cell_type": "code",
   "execution_count": null,
   "id": "87910908",
   "metadata": {},
   "outputs": [],
   "source": []
  }
 ],
 "metadata": {
  "kernelspec": {
   "display_name": "Python 3 (ipykernel)",
   "language": "python",
   "name": "python3"
  },
  "language_info": {
   "codemirror_mode": {
    "name": "ipython",
    "version": 3
   },
   "file_extension": ".py",
   "mimetype": "text/x-python",
   "name": "python",
   "nbconvert_exporter": "python",
   "pygments_lexer": "ipython3",
   "version": "3.9.12"
  }
 },
 "nbformat": 4,
 "nbformat_minor": 5
}
